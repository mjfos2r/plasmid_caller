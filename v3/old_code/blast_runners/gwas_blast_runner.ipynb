{
 "cells": [
  {
   "cell_type": "code",
   "execution_count": 1,
   "metadata": {},
   "outputs": [],
   "source": [
    "import os\n",
    "import re\n",
    "import Bio\n",
    "import glob\n",
    "import tqdm\n",
    "import subprocess\n",
    "from time import sleep\n",
    "from pathlib import Path"
   ]
  },
  {
   "cell_type": "code",
   "execution_count": 2,
   "metadata": {},
   "outputs": [
    {
     "name": "stdout",
     "output_type": "stream",
     "text": [
      "/Users/mf019/bioinformatics/longread_GWAS/plasmid_id\n"
     ]
    }
   ],
   "source": [
    "print(os.getcwd())\n"
   ]
  },
  {
   "cell_type": "code",
   "execution_count": 5,
   "metadata": {},
   "outputs": [
    {
     "name": "stdout",
     "output_type": "stream",
     "text": [
      "CWD:  /Users/mf019/bioinformatics/longread_GWAS/plasmid_id\n",
      "CWD:  /Users/mf019/bioinformatics/longread_GWAS/plasmid_id/plasmid_id_v3\n"
     ]
    }
   ],
   "source": [
    "working_directory = 'plasmid_id_v3' # set the working directory\n",
    "print(\"CWD: \",os.getcwd())\n",
    "if os.getcwd() != working_directory:\n",
    "    os.makedirs(working_directory, exist_ok=True)\n",
    "    os.chdir(working_directory)\n",
    "    print(\"CWD: \",os.getcwd())\n",
    "assembly_dir = '/Users/mf019/bioinformatics/longread_GWAS/assemblies/nanopore/contigs' # where are the assemblies?\n",
    "blast_db_actual = '/Users/mf019/bioinformatics/longread_GWAS/BbPlasmid/db/db_attempt_2/db' # bad. unhardcode this.\n",
    "blast_out = f'{working_directory}/blast_out' # where to put the blast output\n",
    "output_json = f'{working_directory}/json' # just put the jsons somewhere.\n",
    "blast_db_symlink = f'{working_directory}/db'\n",
    "ont_blast_out    = f'{blast_out}/ont'\n",
    "blast_db = f'{blast_db_symlink}/plasmid_db'\n"
   ]
  },
  {
   "cell_type": "code",
   "execution_count": 6,
   "metadata": {},
   "outputs": [],
   "source": [
    "os.listdir(blast_db_actual)\n",
    "os.makedirs(blast_db_symlink, exist_ok=True)\n",
    "for file in os.listdir(blast_db_actual):\n",
    "    os.symlink(f'{blast_db_actual}/{file}', f'{blast_db_symlink}/{file}')\n"
   ]
  },
  {
   "cell_type": "code",
   "execution_count": 7,
   "metadata": {},
   "outputs": [],
   "source": [
    "os.makedirs(blast_out, exist_ok=True)\n",
    "os.makedirs(ont_blast_out, exist_ok=True)\n",
    "os.makedirs(output_json, exist_ok=True)"
   ]
  },
  {
   "cell_type": "code",
   "execution_count": 8,
   "metadata": {},
   "outputs": [
    {
     "name": "stdout",
     "output_type": "stream",
     "text": [
      "['/Users/mf019/bioinformatics/longread_GWAS/assemblies/nanopore/contigs/HB-19.fasta', '/Users/mf019/bioinformatics/longread_GWAS/assemblies/nanopore/contigs/BB-8.fasta', '/Users/mf019/bioinformatics/longread_GWAS/assemblies/nanopore/contigs/B31-K2.fasta', '/Users/mf019/bioinformatics/longread_GWAS/assemblies/nanopore/contigs/BL091_B31E2_erpP.fasta', '/Users/mf019/bioinformatics/longread_GWAS/assemblies/nanopore/contigs/5A18NP1-JBb08-E.fasta', '/Users/mf019/bioinformatics/longread_GWAS/assemblies/nanopore/contigs/5A18NP1-JBb08-A.fasta', '/Users/mf019/bioinformatics/longread_GWAS/assemblies/nanopore/contigs/N40_HP.fasta', '/Users/mf019/bioinformatics/longread_GWAS/assemblies/nanopore/contigs/B31-5A4.fasta', '/Users/mf019/bioinformatics/longread_GWAS/assemblies/nanopore/contigs/5A18NP1-JBb08-C.fasta', '/Users/mf019/bioinformatics/longread_GWAS/assemblies/nanopore/contigs/BG001_C7.fasta', '/Users/mf019/bioinformatics/longread_GWAS/assemblies/nanopore/contigs/5A18NP1-JBb08-D.fasta', '/Users/mf019/bioinformatics/longread_GWAS/assemblies/nanopore/contigs/BL082_H1.fasta', '/Users/mf019/bioinformatics/longread_GWAS/assemblies/nanopore/contigs/5A18NP1-JBb08-B.fasta']\n"
     ]
    }
   ],
   "source": [
    "ont_assemblies = glob.glob(assembly_dir+'/*.fasta')\n",
    "print(ont_assemblies)"
   ]
  },
  {
   "cell_type": "code",
   "execution_count": 10,
   "metadata": {},
   "outputs": [
    {
     "name": "stderr",
     "output_type": "stream",
     "text": [
      "ont assemblies blasted:   0%|                                                               | 0/13 [00:25<?, ?it/s]\n"
     ]
    },
    {
     "name": "stdout",
     "output_type": "stream",
     "text": [
      "subprocess.run(blastn -query /Users/mf019/bioinformatics/longread_GWAS/assemblies/nanopore/contigs/HB-19.fasta -task 'blastn' -db plasmid_id_v3/db/plasmid_db -out plasmid_id_v3/blast_out/ont/HB-19_ont_blast.xml  -evalue 1e-100 -num_threads 8 -outfmt 5 -max_target_seqs 5 -max_hsps 5, shell=False # change to true when exe)\n"
     ]
    },
    {
     "name": "stderr",
     "output_type": "stream",
     "text": []
    },
    {
     "name": "stdout",
     "output_type": "stream",
     "text": [
      "subprocess.run(blastn -query /Users/mf019/bioinformatics/longread_GWAS/assemblies/nanopore/contigs/BB-8.fasta -task 'blastn' -db plasmid_id_v3/db/plasmid_db -out plasmid_id_v3/blast_out/ont/BB-8_ont_blast.xml  -evalue 1e-100 -num_threads 8 -outfmt 5 -max_target_seqs 5 -max_hsps 5, shell=False # change to true when exe)\n"
     ]
    },
    {
     "name": "stderr",
     "output_type": "stream",
     "text": []
    },
    {
     "name": "stdout",
     "output_type": "stream",
     "text": [
      "subprocess.run(blastn -query /Users/mf019/bioinformatics/longread_GWAS/assemblies/nanopore/contigs/B31-K2.fasta -task 'blastn' -db plasmid_id_v3/db/plasmid_db -out plasmid_id_v3/blast_out/ont/B31-K2_ont_blast.xml  -evalue 1e-100 -num_threads 8 -outfmt 5 -max_target_seqs 5 -max_hsps 5, shell=False # change to true when exe)\n"
     ]
    },
    {
     "name": "stderr",
     "output_type": "stream",
     "text": []
    },
    {
     "name": "stdout",
     "output_type": "stream",
     "text": [
      "subprocess.run(blastn -query /Users/mf019/bioinformatics/longread_GWAS/assemblies/nanopore/contigs/BL091_B31E2_erpP.fasta -task 'blastn' -db plasmid_id_v3/db/plasmid_db -out plasmid_id_v3/blast_out/ont/BL091_B31E2_erpP_ont_blast.xml  -evalue 1e-100 -num_threads 8 -outfmt 5 -max_target_seqs 5 -max_hsps 5, shell=False # change to true when exe)\n"
     ]
    },
    {
     "name": "stderr",
     "output_type": "stream",
     "text": []
    },
    {
     "name": "stdout",
     "output_type": "stream",
     "text": [
      "subprocess.run(blastn -query /Users/mf019/bioinformatics/longread_GWAS/assemblies/nanopore/contigs/5A18NP1-JBb08-E.fasta -task 'blastn' -db plasmid_id_v3/db/plasmid_db -out plasmid_id_v3/blast_out/ont/5A18NP1-JBb08-E_ont_blast.xml  -evalue 1e-100 -num_threads 8 -outfmt 5 -max_target_seqs 5 -max_hsps 5, shell=False # change to true when exe)\n"
     ]
    },
    {
     "name": "stderr",
     "output_type": "stream",
     "text": []
    },
    {
     "name": "stdout",
     "output_type": "stream",
     "text": [
      "subprocess.run(blastn -query /Users/mf019/bioinformatics/longread_GWAS/assemblies/nanopore/contigs/5A18NP1-JBb08-A.fasta -task 'blastn' -db plasmid_id_v3/db/plasmid_db -out plasmid_id_v3/blast_out/ont/5A18NP1-JBb08-A_ont_blast.xml  -evalue 1e-100 -num_threads 8 -outfmt 5 -max_target_seqs 5 -max_hsps 5, shell=False # change to true when exe)\n"
     ]
    },
    {
     "name": "stderr",
     "output_type": "stream",
     "text": []
    },
    {
     "name": "stdout",
     "output_type": "stream",
     "text": [
      "subprocess.run(blastn -query /Users/mf019/bioinformatics/longread_GWAS/assemblies/nanopore/contigs/N40_HP.fasta -task 'blastn' -db plasmid_id_v3/db/plasmid_db -out plasmid_id_v3/blast_out/ont/N40_HP_ont_blast.xml  -evalue 1e-100 -num_threads 8 -outfmt 5 -max_target_seqs 5 -max_hsps 5, shell=False # change to true when exe)\n"
     ]
    },
    {
     "name": "stderr",
     "output_type": "stream",
     "text": []
    },
    {
     "name": "stdout",
     "output_type": "stream",
     "text": [
      "subprocess.run(blastn -query /Users/mf019/bioinformatics/longread_GWAS/assemblies/nanopore/contigs/B31-5A4.fasta -task 'blastn' -db plasmid_id_v3/db/plasmid_db -out plasmid_id_v3/blast_out/ont/B31-5A4_ont_blast.xml  -evalue 1e-100 -num_threads 8 -outfmt 5 -max_target_seqs 5 -max_hsps 5, shell=False # change to true when exe)\n"
     ]
    },
    {
     "name": "stderr",
     "output_type": "stream",
     "text": []
    },
    {
     "name": "stdout",
     "output_type": "stream",
     "text": [
      "subprocess.run(blastn -query /Users/mf019/bioinformatics/longread_GWAS/assemblies/nanopore/contigs/5A18NP1-JBb08-C.fasta -task 'blastn' -db plasmid_id_v3/db/plasmid_db -out plasmid_id_v3/blast_out/ont/5A18NP1-JBb08-C_ont_blast.xml  -evalue 1e-100 -num_threads 8 -outfmt 5 -max_target_seqs 5 -max_hsps 5, shell=False # change to true when exe)\n"
     ]
    },
    {
     "name": "stderr",
     "output_type": "stream",
     "text": []
    },
    {
     "name": "stdout",
     "output_type": "stream",
     "text": [
      "subprocess.run(blastn -query /Users/mf019/bioinformatics/longread_GWAS/assemblies/nanopore/contigs/BG001_C7.fasta -task 'blastn' -db plasmid_id_v3/db/plasmid_db -out plasmid_id_v3/blast_out/ont/BG001_C7_ont_blast.xml  -evalue 1e-100 -num_threads 8 -outfmt 5 -max_target_seqs 5 -max_hsps 5, shell=False # change to true when exe)\n"
     ]
    },
    {
     "name": "stderr",
     "output_type": "stream",
     "text": []
    },
    {
     "name": "stdout",
     "output_type": "stream",
     "text": [
      "subprocess.run(blastn -query /Users/mf019/bioinformatics/longread_GWAS/assemblies/nanopore/contigs/5A18NP1-JBb08-D.fasta -task 'blastn' -db plasmid_id_v3/db/plasmid_db -out plasmid_id_v3/blast_out/ont/5A18NP1-JBb08-D_ont_blast.xml  -evalue 1e-100 -num_threads 8 -outfmt 5 -max_target_seqs 5 -max_hsps 5, shell=False # change to true when exe)\n"
     ]
    },
    {
     "name": "stderr",
     "output_type": "stream",
     "text": []
    },
    {
     "name": "stdout",
     "output_type": "stream",
     "text": [
      "subprocess.run(blastn -query /Users/mf019/bioinformatics/longread_GWAS/assemblies/nanopore/contigs/BL082_H1.fasta -task 'blastn' -db plasmid_id_v3/db/plasmid_db -out plasmid_id_v3/blast_out/ont/BL082_H1_ont_blast.xml  -evalue 1e-100 -num_threads 8 -outfmt 5 -max_target_seqs 5 -max_hsps 5, shell=False # change to true when exe)\n"
     ]
    },
    {
     "name": "stderr",
     "output_type": "stream",
     "text": []
    },
    {
     "name": "stdout",
     "output_type": "stream",
     "text": [
      "subprocess.run(blastn -query /Users/mf019/bioinformatics/longread_GWAS/assemblies/nanopore/contigs/5A18NP1-JBb08-B.fasta -task 'blastn' -db plasmid_id_v3/db/plasmid_db -out plasmid_id_v3/blast_out/ont/5A18NP1-JBb08-B_ont_blast.xml  -evalue 1e-100 -num_threads 8 -outfmt 5 -max_target_seqs 5 -max_hsps 5, shell=False # change to true when exe)\n"
     ]
    },
    {
     "name": "stderr",
     "output_type": "stream",
     "text": [
      "ont assemblies blasted: 100%|██████████████████████████████████████████████████████| 13/13 [09:58<00:00, 46.07s/it]\n"
     ]
    }
   ],
   "source": [
    "\n",
    "#loop over the files in the ont dir and then set up the blast command for each file\n",
    "# Run Blast on all ont assemblies!\n",
    "num_files = len(ont_assemblies)\n",
    "ont_pbar = tqdm.tqdm(total=num_files, desc=\"ont assemblies blasted: \")\n",
    "for input_file in ont_assemblies:\n",
    "    path = Path(input_file)\n",
    "    assembly_id = path.name.split('/')[-1].strip('.fasta')\n",
    "    output_file = f'{ont_blast_out}/{assembly_id}_ont_blast'\n",
    "    blast_cmd = f\"blastn -query {input_file} -task 'blastn' \"\n",
    "    blast_cmd += f'-db {blast_db} '\n",
    "    blast_cmd += f'-out {output_file}.xml '\n",
    "    blast_cmd += \" -evalue 1e-100 -num_threads 8 -outfmt 5 -max_target_seqs 5 -max_hsps 5\"\n",
    "    print(f'subprocess.run({blast_cmd}, shell=False # change to true when exe)')\n",
    "    subprocess.run({blast_cmd}, shell=True)\n",
    "    ont_pbar.update(1)\n",
    "ont_pbar.close()"
   ]
  },
  {
   "cell_type": "code",
   "execution_count": null,
   "metadata": {},
   "outputs": [],
   "source": []
  }
 ],
 "metadata": {
  "kernelspec": {
   "display_name": "Python 3 (ipykernel)",
   "language": "python",
   "name": "python3"
  }
 },
 "nbformat": 4,
 "nbformat_minor": 4
}
