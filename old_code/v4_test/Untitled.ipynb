{
 "cells": [
  {
   "cell_type": "code",
   "execution_count": 1,
   "id": "7be8afdc-8e0f-4fa3-a8db-a4b8db947d45",
   "metadata": {},
   "outputs": [],
   "source": [
    "import pysam"
   ]
  },
  {
   "cell_type": "code",
   "execution_count": 2,
   "id": "d5422cfd-605a-48d8-85c0-472ae8ecd683",
   "metadata": {},
   "outputs": [],
   "source": [
    "def calculate_identity_and_coverage(read):\n",
    "    \"\"\"\n",
    "    Calculate the percent identity and percent coverage of an alignment.\n",
    "    \"\"\"\n",
    "    # Calculate percent coverage\n",
    "    query_length = read.query_length\n",
    "    alignment_length = read.reference_length\n",
    "    percent_coverage = (alignment_length / query_length) * 100\n",
    "\n",
    "    # Calculate percent identity\n",
    "    matches = sum((c == '=' or c == 'M') for c, _ in read.cigartuples)\n",
    "    percent_identity = (matches / alignment_length) * 100\n",
    "\n",
    "    return percent_identity, percent_coverage\n",
    "\n",
    "def extract_alignments(samfile_path):\n",
    "    # Open the SAM file\n",
    "    samfile = pysam.AlignmentFile(samfile_path, \"r\")\n",
    "\n",
    "    # Dictionary to store alignments for each contig\n",
    "    contig_alignments = {}\n",
    "\n",
    "    # Iterate through all contigs in the SAM file\n",
    "    for contig in samfile.references:\n",
    "        alignments = []\n",
    "\n",
    "        # Fetch alignments for the current contig\n",
    "        for read in samfile.fetch(contig):\n",
    "            percent_identity, percent_coverage = calculate_identity_and_coverage(read)\n",
    "            alignments.append((read, percent_identity, percent_coverage))\n",
    "\n",
    "        contig_alignments[contig] = alignments\n",
    "\n",
    "    # Close the SAM file\n",
    "    samfile.close()\n",
    "\n",
    "    return contig_alignments"
   ]
  },
  {
   "cell_type": "code",
   "execution_count": 3,
   "id": "a3320676-334b-4af6-9275-a9def9b94c31",
   "metadata": {},
   "outputs": [
    {
     "ename": "ValueError",
     "evalue": "fetching by region is not available for SAM files",
     "output_type": "error",
     "traceback": [
      "\u001b[0;31m---------------------------------------------------------------------------\u001b[0m",
      "\u001b[0;31mValueError\u001b[0m                                Traceback (most recent call last)",
      "Cell \u001b[0;32mIn[3], line 3\u001b[0m\n\u001b[1;32m      1\u001b[0m \u001b[38;5;66;03m# Example usage\u001b[39;00m\n\u001b[1;32m      2\u001b[0m samfile_path \u001b[38;5;241m=\u001b[39m \u001b[38;5;124m'\u001b[39m\u001b[38;5;124msam/URI47H_vs_wp_ref.sam\u001b[39m\u001b[38;5;124m'\u001b[39m\n\u001b[0;32m----> 3\u001b[0m contig_alignments \u001b[38;5;241m=\u001b[39m \u001b[43mextract_alignments\u001b[49m\u001b[43m(\u001b[49m\u001b[43msamfile_path\u001b[49m\u001b[43m)\u001b[49m\n\u001b[1;32m      5\u001b[0m \u001b[38;5;66;03m# Print the alignments with percent identity and percent coverage for each contig\u001b[39;00m\n\u001b[1;32m      6\u001b[0m \u001b[38;5;28;01mfor\u001b[39;00m contig, alignments \u001b[38;5;129;01min\u001b[39;00m contig_alignments\u001b[38;5;241m.\u001b[39mitems():\n",
      "Cell \u001b[0;32mIn[2], line 28\u001b[0m, in \u001b[0;36mextract_alignments\u001b[0;34m(samfile_path)\u001b[0m\n\u001b[1;32m     25\u001b[0m alignments \u001b[38;5;241m=\u001b[39m []\n\u001b[1;32m     27\u001b[0m \u001b[38;5;66;03m# Fetch alignments for the current contig\u001b[39;00m\n\u001b[0;32m---> 28\u001b[0m \u001b[38;5;28;01mfor\u001b[39;00m read \u001b[38;5;129;01min\u001b[39;00m \u001b[43msamfile\u001b[49m\u001b[38;5;241;43m.\u001b[39;49m\u001b[43mfetch\u001b[49m\u001b[43m(\u001b[49m\u001b[43mcontig\u001b[49m\u001b[43m)\u001b[49m:\n\u001b[1;32m     29\u001b[0m     percent_identity, percent_coverage \u001b[38;5;241m=\u001b[39m calculate_identity_and_coverage(read)\n\u001b[1;32m     30\u001b[0m     alignments\u001b[38;5;241m.\u001b[39mappend((read, percent_identity, percent_coverage))\n",
      "File \u001b[0;32m~/miniconda3/lib/python3.12/site-packages/pysam/libcalignmentfile.pyx:1123\u001b[0m, in \u001b[0;36mpysam.libcalignmentfile.AlignmentFile.fetch\u001b[0;34m()\u001b[0m\n",
      "\u001b[0;31mValueError\u001b[0m: fetching by region is not available for SAM files"
     ]
    }
   ],
   "source": [
    "# Example usage\n",
    "samfile_path = 'sam/URI47H_vs_wp_ref.sam'\n",
    "contig_alignments = extract_alignments(samfile_path)\n",
    "\n",
    "# Print the alignments with percent identity and percent coverage for each contig\n",
    "for contig, alignments in contig_alignments.items():\n",
    "    print(f\"Contig: {contig}\")\n",
    "    for alignment, percent_identity, percent_coverage in alignments:\n",
    "        print(f\"  Alignment: {alignment}\")\n",
    "        print(f\"  Percent Identity: {percent_identity:.2f}%\")\n",
    "        print(f\"  Percent Coverage: {percent_coverage:.2f}%\\n\")"
   ]
  },
  {
   "cell_type": "code",
   "execution_count": null,
   "id": "a41e313b-7d14-4d66-a83d-7feb35bdc174",
   "metadata": {},
   "outputs": [],
   "source": []
  }
 ],
 "metadata": {
  "kernelspec": {
   "display_name": "Python 3 (ipykernel)",
   "language": "python",
   "name": "python3"
  },
  "language_info": {
   "codemirror_mode": {
    "name": "ipython",
    "version": 3
   },
   "file_extension": ".py",
   "mimetype": "text/x-python",
   "name": "python",
   "nbconvert_exporter": "python",
   "pygments_lexer": "ipython3",
   "version": "3.12.2"
  }
 },
 "nbformat": 4,
 "nbformat_minor": 5
}
