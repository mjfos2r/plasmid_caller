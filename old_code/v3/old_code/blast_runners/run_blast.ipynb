{
 "cells": [
  {
   "cell_type": "markdown",
   "metadata": {},
   "source": [
    "# Blast DB creation and search execution \n",
    "Okay so the following requires setting up a jupyter server in the x86 conda environment\n",
    "\n",
    "to do this, open a new terminal and type the following:\n",
    "```$bash\n",
    ">condax86\n",
    ">conda activate blast\n",
    ">cd /Users/mf019/bioinformatics/blastDB/BbPlasmid\n",
    ">jupyter notebook\n",
    "```\n",
    "then grab the server URL and put that into the python kernel option in VSCode\n",
    "http://localhost:8888/tree?token=b783c19720292ce981bed187f7550a10bfebf745d7e14cb8\n",
    "\n",
    "click the python3 kernel button in the top right\n",
    "-> select another kernel -> existing jupyter server \n",
    "-> enter URL\n"
   ]
  },
  {
   "cell_type": "code",
   "execution_count": 3,
   "metadata": {},
   "outputs": [
    {
     "name": "stdout",
     "output_type": "stream",
     "text": [
      "Collecting Bio\n",
      "  Downloading bio-1.6.0-py3-none-any.whl.metadata (5.1 kB)\n",
      "Collecting biopython>=1.80 (from Bio)\n",
      "  Downloading biopython-1.81-cp312-cp312-manylinux_2_17_x86_64.manylinux2014_x86_64.whl.metadata (13 kB)\n",
      "Requirement already satisfied: requests in ./miniconda3/envs/plasmid_id/lib/python3.12/site-packages (from Bio) (2.31.0)\n",
      "Collecting tqdm (from Bio)\n",
      "  Downloading tqdm-4.66.1-py3-none-any.whl.metadata (57 kB)\n",
      "\u001b[2K     \u001b[90m━━━━━━━━━━━━━━━━━━━━━━━━━━━━━━━━━━━━━━━\u001b[0m \u001b[32m57.6/57.6 kB\u001b[0m \u001b[31m460.3 kB/s\u001b[0m eta \u001b[36m0:00:00\u001b[0ma \u001b[36m0:00:01\u001b[0m\n",
      "\u001b[?25hCollecting mygene (from Bio)\n",
      "  Downloading mygene-3.2.2-py2.py3-none-any.whl (5.4 kB)\n",
      "Collecting pandas (from Bio)\n",
      "  Downloading pandas-2.1.4-cp312-cp312-manylinux_2_17_x86_64.manylinux2014_x86_64.whl.metadata (18 kB)\n",
      "Collecting pooch (from Bio)\n",
      "  Downloading pooch-1.8.0-py3-none-any.whl.metadata (9.9 kB)\n",
      "Collecting gprofiler-official (from Bio)\n",
      "  Downloading gprofiler_official-1.0.0-py3-none-any.whl (9.3 kB)\n",
      "Collecting numpy (from biopython>=1.80->Bio)\n",
      "  Downloading numpy-1.26.2-cp312-cp312-manylinux_2_17_x86_64.manylinux2014_x86_64.whl.metadata (61 kB)\n",
      "\u001b[2K     \u001b[90m━━━━━━━━━━━━━━━━━━━━━━━━━━━━━━━━━━━━━━━━\u001b[0m \u001b[32m61.2/61.2 kB\u001b[0m \u001b[31m1.0 MB/s\u001b[0m eta \u001b[36m0:00:00\u001b[0mta \u001b[36m0:00:01\u001b[0m\n",
      "\u001b[?25hCollecting biothings-client>=0.2.6 (from mygene->Bio)\n",
      "  Downloading biothings_client-0.3.1-py2.py3-none-any.whl.metadata (9.8 kB)\n",
      "Requirement already satisfied: python-dateutil>=2.8.2 in ./miniconda3/envs/plasmid_id/lib/python3.12/site-packages (from pandas->Bio) (2.8.2)\n",
      "Requirement already satisfied: pytz>=2020.1 in ./miniconda3/envs/plasmid_id/lib/python3.12/site-packages (from pandas->Bio) (2023.3.post1)\n",
      "Collecting tzdata>=2022.1 (from pandas->Bio)\n",
      "  Downloading tzdata-2023.3-py2.py3-none-any.whl (341 kB)\n",
      "\u001b[2K     \u001b[90m━━━━━━━━━━━━━━━━━━━━━━━━━━━━━━━━━━━━━\u001b[0m \u001b[32m341.8/341.8 kB\u001b[0m \u001b[31m982.3 kB/s\u001b[0m eta \u001b[36m0:00:00\u001b[0ma \u001b[36m0:00:01\u001b[0m\n",
      "\u001b[?25hRequirement already satisfied: platformdirs>=2.5.0 in ./miniconda3/envs/plasmid_id/lib/python3.12/site-packages (from pooch->Bio) (4.1.0)\n",
      "Requirement already satisfied: packaging>=20.0 in ./miniconda3/envs/plasmid_id/lib/python3.12/site-packages (from pooch->Bio) (23.2)\n",
      "Requirement already satisfied: charset-normalizer<4,>=2 in ./miniconda3/envs/plasmid_id/lib/python3.12/site-packages (from requests->Bio) (3.3.2)\n",
      "Requirement already satisfied: idna<4,>=2.5 in ./miniconda3/envs/plasmid_id/lib/python3.12/site-packages (from requests->Bio) (3.6)\n",
      "Requirement already satisfied: urllib3<3,>=1.21.1 in ./miniconda3/envs/plasmid_id/lib/python3.12/site-packages (from requests->Bio) (2.1.0)\n",
      "Requirement already satisfied: certifi>=2017.4.17 in ./miniconda3/envs/plasmid_id/lib/python3.12/site-packages (from requests->Bio) (2023.11.17)\n",
      "Requirement already satisfied: six>=1.5 in ./miniconda3/envs/plasmid_id/lib/python3.12/site-packages (from python-dateutil>=2.8.2->pandas->Bio) (1.16.0)\n",
      "Downloading bio-1.6.0-py3-none-any.whl (279 kB)\n",
      "\u001b[2K   \u001b[90m━━━━━━━━━━━━━━━━━━━━━━━━━━━━━━━━━━━━━━━━\u001b[0m \u001b[32m279.4/279.4 kB\u001b[0m \u001b[31m1.3 MB/s\u001b[0m eta \u001b[36m0:00:00\u001b[0ma \u001b[36m0:00:01\u001b[0m\n",
      "\u001b[?25hDownloading biopython-1.81-cp312-cp312-manylinux_2_17_x86_64.manylinux2014_x86_64.whl (3.1 MB)\n",
      "\u001b[2K   \u001b[90m━━━━━━━━━━━━━━━━━━━━━━━━━━━━━━━━━━━━━━━━\u001b[0m \u001b[32m3.1/3.1 MB\u001b[0m \u001b[31m1.3 MB/s\u001b[0m eta \u001b[36m0:00:00\u001b[0m00:01\u001b[0m00:01\u001b[0m\n",
      "\u001b[?25hDownloading pandas-2.1.4-cp312-cp312-manylinux_2_17_x86_64.manylinux2014_x86_64.whl (11.7 MB)\n",
      "\u001b[2K   \u001b[90m━━━━━━━━━━━━━━━━━━━━━━━━━━━━━━━━━━━━━━━━\u001b[0m \u001b[32m11.7/11.7 MB\u001b[0m \u001b[31m2.1 MB/s\u001b[0m eta \u001b[36m0:00:00\u001b[0m00:01\u001b[0m00:01\u001b[0m\n",
      "\u001b[?25hDownloading pooch-1.8.0-py3-none-any.whl (62 kB)\n",
      "\u001b[2K   \u001b[90m━━━━━━━━━━━━━━━━━━━━━━━━━━━━━━━━━━━━━━━━\u001b[0m \u001b[32m62.7/62.7 kB\u001b[0m \u001b[31m7.6 MB/s\u001b[0m eta \u001b[36m0:00:00\u001b[0m\n",
      "\u001b[?25hDownloading tqdm-4.66.1-py3-none-any.whl (78 kB)\n",
      "\u001b[2K   \u001b[90m━━━━━━━━━━━━━━━━━━━━━━━━━━━━━━━━━━━━━━━━\u001b[0m \u001b[32m78.3/78.3 kB\u001b[0m \u001b[31m6.9 MB/s\u001b[0m eta \u001b[36m0:00:00\u001b[0m\n",
      "\u001b[?25hDownloading biothings_client-0.3.1-py2.py3-none-any.whl (29 kB)\n",
      "Downloading numpy-1.26.2-cp312-cp312-manylinux_2_17_x86_64.manylinux2014_x86_64.whl (17.9 MB)\n",
      "\u001b[2K   \u001b[90m━━━━━━━━━━━━━━━━━━━━━━━━━━━━━━━━━━━━━━━━\u001b[0m \u001b[32m17.9/17.9 MB\u001b[0m \u001b[31m2.9 MB/s\u001b[0m eta \u001b[36m0:00:00\u001b[0m00:01\u001b[0m00:01\u001b[0m\n",
      "\u001b[?25hInstalling collected packages: tzdata, tqdm, numpy, pooch, pandas, gprofiler-official, biothings-client, biopython, mygene, Bio\n",
      "Successfully installed Bio-1.6.0 biopython-1.81 biothings-client-0.3.1 gprofiler-official-1.0.0 mygene-3.2.2 numpy-1.26.2 pandas-2.1.4 pooch-1.8.0 tqdm-4.66.1 tzdata-2023.3\n",
      "Note: you may need to restart the kernel to use updated packages.\n"
     ]
    }
   ],
   "source": [
    "pip install Bio\n"
   ]
  },
  {
   "cell_type": "code",
   "execution_count": 1,
   "metadata": {},
   "outputs": [],
   "source": [
    "import subprocess\n",
    "import os \n",
    "import Bio\n",
    "import glob\n",
    "import re\n",
    "import tqdm\n",
    "from time import sleep\n",
    "from pathlib import Path\n"
   ]
  },
  {
   "cell_type": "code",
   "execution_count": 2,
   "metadata": {},
   "outputs": [
    {
     "name": "stdout",
     "output_type": "stream",
     "text": [
      "/home/mf019\n"
     ]
    }
   ],
   "source": [
    "print(os.getcwd())\n"
   ]
  },
  {
   "cell_type": "code",
   "execution_count": null,
   "metadata": {},
   "outputs": [],
   "source": [
    "RUN_DB_BOOL = False\n",
    "working_directory = ''\n",
    "fasta_for_db = 'db/db_attempt_2/all_plasmids.fasta'\n",
    "blast_db = 'db/db_attempt_2/db/plasmid_db'\n",
    "assembly_dir = 'assemblies/'\n",
    "canu_blast_out = 'plasmid_seqs/fresh_attempt/output/blast_results/canu/'\n",
    "flye_blast_out = 'plasmid_seqs/fresh_attempt/output/blast_results/flye/'\n"
   ]
  },
  {
   "cell_type": "code",
   "execution_count": null,
   "metadata": {},
   "outputs": [],
   "source": [
    "print(\"CWD: \",os.getcwd())\n",
    "print(\"moving to working directory!\")\n",
    "os.chdir(working_directory)\n",
    "print(\"CWD: \",os.getcwd())\n"
   ]
  },
  {
   "cell_type": "code",
   "execution_count": null,
   "metadata": {},
   "outputs": [],
   "source": [
    "# lets glob the assemblies from their respective directories!\n",
    "canu_assemblies = glob.glob(assembly_dir+'canu/*.fasta')\n",
    "flye_assemblies = glob.glob(assembly_dir+'flye/*.fasta')\n",
    "\n",
    "canu_pbar = tqdm.tqdm(range(len(canu_assemblies)), desc=\"Canu Assemblies Found: \")\n",
    "for file in canu_assemblies:\n",
    "    sleep(0.1)\n",
    "    canu_pbar.update(1)\n",
    "canu_pbar.close()\n",
    "    \n",
    "flye_pbar = tqdm.tqdm(range(len(flye_assemblies)), desc=\"Flye assemblies found: \")\n",
    "for file in flye_assemblies:\n",
    "    sleep(0.1)\n",
    "    flye_pbar.update(1)\n",
    "flye_pbar.close()\n"
   ]
  },
  {
   "cell_type": "code",
   "execution_count": null,
   "metadata": {},
   "outputs": [],
   "source": [
    "if RUN_DB_BOOL is True:\n",
    "    make_db_cmd = \"makeblastdb -in \"+fasta_for_db+\" -out \"+blast_db+\" -dbtype 'nucl' -hash_index\"\n",
    "    print(make_db_cmd)\n",
    "    subprocess.run(make_db_cmd, shell=True)\n",
    "\n",
    "else:\n",
    "    print(\"Blast DB already exists! Not creating it again!\")\n",
    "    print(\"Change RUN_DB_BOOL to True if you need to rebuild the DB.\")\n",
    "    "
   ]
  },
  {
   "cell_type": "code",
   "execution_count": null,
   "metadata": {},
   "outputs": [],
   "source": [
    "#loop over the files in the canu dir and then set up the blast command for each file\n",
    "\n",
    "# Run Blast on all Canu Assemblies!\n",
    "num_files = len(canu_assemblies)\n",
    "canu_pbar = tqdm.tqdm(total=num_files, desc=\"Canu Assemblies Blasted: \")\n",
    "for input_file in canu_assemblies:\n",
    "    path = Path(input_file)\n",
    "    suffix = path.suffixes[0]\n",
    "    assembly_id = path.name.split(suffix)[0]\n",
    "    output_file = canu_blast_out+assembly_id+\"_canu_blast\"\n",
    "    blast_cmd = \"blastn -query \"+input_file+\" -task 'blastn' \"\n",
    "    blast_cmd += \"-db \"+blast_db\n",
    "    blast_cmd += \" -out \"+output_file+\".xml\"\n",
    "    blast_cmd += \" -evalue 1e-100 -num_threads 8 -outfmt 5 -max_target_seqs 1 -max_hsps 1\"\n",
    "    subprocess.run(blast_cmd, shell=True)\n",
    "    canu_pbar.update(1)\n",
    "canu_pbar.close()\n",
    "\n",
    "# run Blast on all flye assemblies\n",
    "num_files = len(flye_assemblies)\n",
    "flye_pbar = tqdm.tqdm(total=num_files, desc=\"Flye Assemblies Blasted: \")\n",
    "for input_file in flye_assemblies:\n",
    "    path = Path(input_file)\n",
    "    suffix = path.suffixes[0]\n",
    "    assembly_id = path.name.split(suffix)[0]\n",
    "    output_file = flye_blast_out+assembly_id+\"_flye_blast\"\n",
    "    blast_cmd = \"blastn -query \"+input_file+\" -task 'blastn' \"\n",
    "    blast_cmd += \"-db \"+blast_db\n",
    "    blast_cmd += \" -out \"+output_file+\".xml\"\n",
    "    blast_cmd += \" -evalue 1e-100 -num_threads 8 -outfmt 5 -max_target_seqs 1 -max_hsps 1\"\n",
    "    subprocess.run(blast_cmd, shell=True)\n",
    "    flye_pbar.update(1)\n",
    "flye_pbar.close()\n"
   ]
  }
 ],
 "metadata": {
  "kernelspec": {
   "display_name": "Python 3 (ipykernel)",
   "language": "python",
   "name": "python3"
  }
 },
 "nbformat": 4,
 "nbformat_minor": 4
}
